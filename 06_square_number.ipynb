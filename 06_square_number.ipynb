{
  "nbformat": 4,
  "nbformat_minor": 0,
  "metadata": {
    "colab": {
      "provenance": [],
      "authorship_tag": "ABX9TyNhf18HdBdfBc+mVXL/1Rc7",
      "include_colab_link": true
    },
    "kernelspec": {
      "name": "python3",
      "display_name": "Python 3"
    },
    "language_info": {
      "name": "python"
    }
  },
  "cells": [
    {
      "cell_type": "markdown",
      "metadata": {
        "id": "view-in-github",
        "colab_type": "text"
      },
      "source": [
        "<a href=\"https://colab.research.google.com/github/hibameo/Assigment_4/blob/main/06_square_number.ipynb\" target=\"_parent\"><img src=\"https://colab.research.google.com/assets/colab-badge.svg\" alt=\"Open In Colab\"/></a>"
      ]
    },
    {
      "cell_type": "code",
      "execution_count": 1,
      "metadata": {
        "colab": {
          "base_uri": "https://localhost:8080/"
        },
        "id": "YI012Cd7Yoj4",
        "outputId": "d3c9bf1e-fe22-4da2-e94c-2700617b83ed"
      },
      "outputs": [
        {
          "output_type": "stream",
          "name": "stdout",
          "text": [
            "Type a number to see its square: 3\n",
            "3.0 squared is 9.0\n"
          ]
        }
      ],
      "source": [
        "def main():\n",
        "    # User se number lena\n",
        "    number = float(input(\"Type a number to see its square: \"))\n",
        "\n",
        "    # Square calculate karna\n",
        "    square = number * number\n",
        "\n",
        "    # Result print karna\n",
        "    print(str(number) + \" squared is \" + str(square))\n",
        "\n",
        "main()\n"
      ]
    }
  ]
}