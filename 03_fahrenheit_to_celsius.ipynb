{
  "nbformat": 4,
  "nbformat_minor": 0,
  "metadata": {
    "colab": {
      "provenance": [],
      "authorship_tag": "ABX9TyOiobCKX5S98yXrw+c8mKdL",
      "include_colab_link": true
    },
    "kernelspec": {
      "name": "python3",
      "display_name": "Python 3"
    },
    "language_info": {
      "name": "python"
    }
  },
  "cells": [
    {
      "cell_type": "markdown",
      "metadata": {
        "id": "view-in-github",
        "colab_type": "text"
      },
      "source": [
        "<a href=\"https://colab.research.google.com/github/hibameo/Assigment_4/blob/main/03_fahrenheit_to_celsius.ipynb\" target=\"_parent\"><img src=\"https://colab.research.google.com/assets/colab-badge.svg\" alt=\"Open In Colab\"/></a>"
      ]
    },
    {
      "cell_type": "code",
      "execution_count": 1,
      "metadata": {
        "colab": {
          "base_uri": "https://localhost:8080/"
        },
        "id": "5KZHS8x5Wik9",
        "outputId": "1c82a673-6e2c-40ca-a45b-785365f29327"
      },
      "outputs": [
        {
          "output_type": "stream",
          "name": "stdout",
          "text": [
            "Enter temperature in Fahrenheit: 5\n",
            "Temperature: 5.0F = -15.0C\n"
          ]
        }
      ],
      "source": [
        "def main():\n",
        "    # User se Fahrenheit mein temperature lena (decimal ke sath)\n",
        "    degrees_fahrenheit = float(input(\"Enter temperature in Fahrenheit: \"))\n",
        "\n",
        "    # Conversion formula apply karna\n",
        "    degrees_celsius = (degrees_fahrenheit - 32) * 5.0 / 9.0\n",
        "\n",
        "    # Result print karna\n",
        "    print(\"Temperature:\", str(degrees_fahrenheit) + \"F =\", str(degrees_celsius) + \"C\")\n",
        "\n",
        "# Program yahan se start hota hai\n",
        "main()\n"
      ]
    }
  ]
}