{
  "nbformat": 4,
  "nbformat_minor": 0,
  "metadata": {
    "colab": {
      "provenance": [],
      "authorship_tag": "ABX9TyOnJuHOytSl5H8jdIXLh39g",
      "include_colab_link": true
    },
    "kernelspec": {
      "name": "python3",
      "display_name": "Python 3"
    },
    "language_info": {
      "name": "python"
    }
  },
  "cells": [
    {
      "cell_type": "markdown",
      "metadata": {
        "id": "view-in-github",
        "colab_type": "text"
      },
      "source": [
        "<a href=\"https://colab.research.google.com/github/hibameo/Assigment_4/blob/main/02_agreement_bot.ipynb\" target=\"_parent\"><img src=\"https://colab.research.google.com/assets/colab-badge.svg\" alt=\"Open In Colab\"/></a>"
      ]
    },
    {
      "cell_type": "code",
      "execution_count": 1,
      "metadata": {
        "colab": {
          "base_uri": "https://localhost:8080/"
        },
        "id": "iHwZelELWDEC",
        "outputId": "c4474361-1193-4d29-a33e-148353e56121"
      },
      "outputs": [
        {
          "output_type": "stream",
          "name": "stdout",
          "text": [
            "What's your favorite animal? cat\n",
            "My favorite animal is also cat!\n"
          ]
        }
      ],
      "source": [
        "def main():\n",
        "    # User se favorite animal poochhna\n",
        "    favorite_animal = input(\"What's your favorite animal? \")\n",
        "\n",
        "    # User ke input ke sath jawab dena\n",
        "    print(\"My favorite animal is also\", favorite_animal + \"!\")\n",
        "\n",
        "# Program yahan se run hota hai\n",
        "main()\n"
      ]
    },
    {
      "cell_type": "markdown",
      "source": [
        "What's your favorite animal? cat\n",
        "My favorite animal is also cat!\n"
      ],
      "metadata": {
        "id": "GI6cFaCiWPw3"
      }
    }
  ]
}