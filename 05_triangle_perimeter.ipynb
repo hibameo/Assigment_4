{
  "nbformat": 4,
  "nbformat_minor": 0,
  "metadata": {
    "colab": {
      "provenance": [],
      "authorship_tag": "ABX9TyMxs5SUjeR8I7UJ5fT4wUoE",
      "include_colab_link": true
    },
    "kernelspec": {
      "name": "python3",
      "display_name": "Python 3"
    },
    "language_info": {
      "name": "python"
    }
  },
  "cells": [
    {
      "cell_type": "markdown",
      "metadata": {
        "id": "view-in-github",
        "colab_type": "text"
      },
      "source": [
        "<a href=\"https://colab.research.google.com/github/hibameo/Assigment_4/blob/main/05_triangle_perimeter.ipynb\" target=\"_parent\"><img src=\"https://colab.research.google.com/assets/colab-badge.svg\" alt=\"Open In Colab\"/></a>"
      ]
    },
    {
      "cell_type": "code",
      "execution_count": 1,
      "metadata": {
        "colab": {
          "base_uri": "https://localhost:8080/"
        },
        "id": "cXzKlO2lYXOh",
        "outputId": "15fc3483-b6ab-4365-9b7a-2dbf266b849a"
      },
      "outputs": [
        {
          "output_type": "stream",
          "name": "stdout",
          "text": [
            "What is the length of side 1? 5\n",
            "What is the length of side 2? 8\n",
            "What is the length of side 3? 56\n",
            "The perimeter of the triangle is 69.0\n"
          ]
        }
      ],
      "source": [
        "def main():\n",
        "    # Teeno sides ka input lena (decimal values ke liye float use kiya gaya hai)\n",
        "    side1 = float(input(\"What is the length of side 1? \"))\n",
        "    side2 = float(input(\"What is the length of side 2? \"))\n",
        "    side3 = float(input(\"What is the length of side 3? \"))\n",
        "\n",
        "    # Perimeter calculate karna\n",
        "    perimeter = side1 + side2 + side3\n",
        "\n",
        "    # Result print karna\n",
        "    print(\"The perimeter of the triangle is\", perimeter)\n",
        "\n",
        "main()\n"
      ]
    }
  ]
}