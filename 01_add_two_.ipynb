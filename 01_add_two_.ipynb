{
  "nbformat": 4,
  "nbformat_minor": 0,
  "metadata": {
    "colab": {
      "provenance": [],
      "authorship_tag": "ABX9TyNzmVTZgtJrNQnRQVkRBuIm",
      "include_colab_link": true
    },
    "kernelspec": {
      "name": "python3",
      "display_name": "Python 3"
    },
    "language_info": {
      "name": "python"
    }
  },
  "cells": [
    {
      "cell_type": "markdown",
      "metadata": {
        "id": "view-in-github",
        "colab_type": "text"
      },
      "source": [
        "<a href=\"https://colab.research.google.com/github/hibameo/Assigment_4/blob/main/01_add_two_.ipynb\" target=\"_parent\"><img src=\"https://colab.research.google.com/assets/colab-badge.svg\" alt=\"Open In Colab\"/></a>"
      ]
    },
    {
      "cell_type": "code",
      "execution_count": 1,
      "metadata": {
        "colab": {
          "base_uri": "https://localhost:8080/"
        },
        "id": "pxFrPMjUU6Fk",
        "outputId": "681ec00e-2865-414b-bb01-e4826ffda9c6"
      },
      "outputs": [
        {
          "output_type": "stream",
          "name": "stdout",
          "text": [
            "Enter the first number: 5\n",
            "Enter the second number: 8\n",
            "The sum of 5 and 8 is: 13\n"
          ]
        }
      ],
      "source": [
        "def main():\n",
        "    # Pehla number lene ka prompt\n",
        "    first_number = int(input(\"Enter the first number: \"))\n",
        "\n",
        "    # Doosra number lene ka prompt\n",
        "    second_number = int(input(\"Enter the second number: \"))\n",
        "\n",
        "    # Dono numbers ka sum calculate karna\n",
        "    total_sum = first_number + second_number\n",
        "\n",
        "    # Result print karna\n",
        "    print(\"The sum of\", first_number, \"and\", second_number, \"is:\", total_sum)\n",
        "\n",
        "# Program ka main function call karna\n",
        "main()\n",
        "\n"
      ]
    }
  ]
}